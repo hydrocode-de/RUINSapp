{
 "cells": [
  {
   "cell_type": "code",
   "execution_count": null,
   "metadata": {},
   "outputs": [],
   "source": [
    "# evaluate three RCP\n",
    "for RCP in ['rcp26','rcp45','rcp85']:\n",
    "print(RCP)\n",
    "\n",
    "#at the end of the century (2090)\n",
    "for ClimateTime in ['2065']:\n",
    "\n",
    "# using different SLR states (IPCC 6 - SLR assessment)\n",
    "SLRs = [35,122,221]  # SLR in 2030 SSP126, outer range of low/medium confidence\n",
    "\n",
    "# assuming differing increases in the total precipitation of a single extreme event resulting from differing climate predictions (--> see 02_max_extremes.ipynb)\n",
    "prec_increases = [0.9, 1, 1.1]\n",
    "\n",
    "# assuming differing subdaily precipitation patterns (temporal aggregation / Disaggregation of precipitation signal -> HMT)\n",
    "for raindissagg in data.filter(regex='Prec').columns:\n",
    "\n",
    "# evaluating different observed events, for which increased water levels in canals are known\n",
    "for event in ['2012','2017-03','2018-01','2017-12','2017-02','2011']:\n",
    "\n",
    "hourly_recharge = data[raindissagg][t1:t2]\n",
    "tide = data['wl_Knock_Outer'][t1:t2] + slr     # add SLR to tide water level [mm]\n",
    "hourly_recharge = hourly_recharge.rolling(\"12h\").mean() # smoothen rainfall signal to account for water redistribution within catchment\n",
    "hourly_recharge *= prec_increase  # scale hourly recharge by change in climate forcing\n",
    "\n",
    "# evaluate management options\n",
    "for advance_pump in [0,50]: # lower target water level by 5 cm before incoming event\n",
    "for Canal_area in [4,6]:    # increase available storage in canals, by increasing water area (polder option in \"Freepsumer Meer\" and \"Großes Meer\") -> note, that canal hydraulics are not changed\n",
    "\n",
    "# evaluate canal flow uncertainty (--> see 01_canal_flow_dh-Q.ipynb)\n",
    "canal_par = [(1.112 , 4156.), (0.9946, 2142.), (1.045 , 2820.)]\n",
    "\n",
    "### finally run the model\n",
    "x['h_store'], q_pump, x['h_min'], x['flow_rec'], pump_cost, x['store'] = drain_cap.storage_model(forcing_data = x,\n",
    "                                                                                                                                     canal_par = z,\n",
    "                                                                                                                                     v_store = 0,\n",
    "                                                                                                                                     h_store_target = -1350,\n",
    "                                                                                                                                     canal_area = Canal_area,\n",
    "                                                                                                                                     h_forecast_pump = advance_pump,\n",
    "                                                                                                                                     h_grad_pump_max = maxdh)"
   ]
  }
 ],
 "metadata": {
  "kernelspec": {
   "display_name": "Python 3",
   "language": "python",
   "name": "python3"
  },
  "language_info": {
   "codemirror_mode": {
    "name": "ipython",
    "version": 3
   },
   "file_extension": ".py",
   "mimetype": "text/x-python",
   "name": "python",
   "nbconvert_exporter": "python",
   "pygments_lexer": "ipython3",
   "version": "3.7.0"
  }
 },
 "nbformat": 4,
 "nbformat_minor": 4
}
