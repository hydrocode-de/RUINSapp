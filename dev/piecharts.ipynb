{
 "cells": [
  {
   "cell_type": "code",
   "execution_count": 1,
   "id": "d0aea272-f015-4e59-9cc9-07a44656d725",
   "metadata": {},
   "outputs": [],
   "source": [
    "import plotly.graph_objects as go\n",
    "from plotly.subplots import make_subplots\n",
    "import numpy as np\n",
    "import pandas as pd\n"
   ]
  },
  {
   "cell_type": "code",
   "execution_count": 43,
   "id": "da970413-32e8-4da9-a042-6c1ece0df004",
   "metadata": {},
   "outputs": [
    {
     "data": {
      "text/html": [
       "<div>\n",
       "<style scoped>\n",
       "    .dataframe tbody tr th:only-of-type {\n",
       "        vertical-align: middle;\n",
       "    }\n",
       "\n",
       "    .dataframe tbody tr th {\n",
       "        vertical-align: top;\n",
       "    }\n",
       "\n",
       "    .dataframe thead th {\n",
       "        text-align: right;\n",
       "    }\n",
       "</style>\n",
       "<table border=\"1\" class=\"dataframe\">\n",
       "  <thead>\n",
       "    <tr style=\"text-align: right;\">\n",
       "      <th></th>\n",
       "      <th>wheat_perc</th>\n",
       "      <th>maize_perc</th>\n",
       "      <th>hay_perc</th>\n",
       "      <th>CE_rcp85</th>\n",
       "      <th>CE_rcp45</th>\n",
       "      <th>CE_rcp26</th>\n",
       "      <th>meanCE</th>\n",
       "      <th>varCE</th>\n",
       "    </tr>\n",
       "  </thead>\n",
       "  <tbody>\n",
       "    <tr>\n",
       "      <th>hay.0_wheat.20_maize.80</th>\n",
       "      <td>20</td>\n",
       "      <td>80</td>\n",
       "      <td>0</td>\n",
       "      <td>31.115724</td>\n",
       "      <td>34.913673</td>\n",
       "      <td>36.495480</td>\n",
       "      <td>34.174959</td>\n",
       "      <td>7.644719</td>\n",
       "    </tr>\n",
       "    <tr>\n",
       "      <th>hay.0_wheat.10_maize.90</th>\n",
       "      <td>10</td>\n",
       "      <td>90</td>\n",
       "      <td>0</td>\n",
       "      <td>30.861261</td>\n",
       "      <td>34.853083</td>\n",
       "      <td>36.565591</td>\n",
       "      <td>34.093311</td>\n",
       "      <td>8.567786</td>\n",
       "    </tr>\n",
       "    <tr>\n",
       "      <th>hay.0_wheat.0_maize.100</th>\n",
       "      <td>0</td>\n",
       "      <td>100</td>\n",
       "      <td>0</td>\n",
       "      <td>30.620022</td>\n",
       "      <td>34.796495</td>\n",
       "      <td>36.655081</td>\n",
       "      <td>34.023866</td>\n",
       "      <td>9.553200</td>\n",
       "    </tr>\n",
       "    <tr>\n",
       "      <th>hay.10_wheat.20_maize.70</th>\n",
       "      <td>20</td>\n",
       "      <td>70</td>\n",
       "      <td>10</td>\n",
       "      <td>30.689424</td>\n",
       "      <td>34.409415</td>\n",
       "      <td>35.951629</td>\n",
       "      <td>33.683489</td>\n",
       "      <td>7.317924</td>\n",
       "    </tr>\n",
       "    <tr>\n",
       "      <th>hay.10_wheat.10_maize.80</th>\n",
       "      <td>10</td>\n",
       "      <td>80</td>\n",
       "      <td>10</td>\n",
       "      <td>30.413487</td>\n",
       "      <td>34.329397</td>\n",
       "      <td>35.976871</td>\n",
       "      <td>33.573252</td>\n",
       "      <td>8.166628</td>\n",
       "    </tr>\n",
       "  </tbody>\n",
       "</table>\n",
       "</div>"
      ],
      "text/plain": [
       "                          wheat_perc  maize_perc  hay_perc   CE_rcp85  \\\n",
       "hay.0_wheat.20_maize.80           20          80         0  31.115724   \n",
       "hay.0_wheat.10_maize.90           10          90         0  30.861261   \n",
       "hay.0_wheat.0_maize.100            0         100         0  30.620022   \n",
       "hay.10_wheat.20_maize.70          20          70        10  30.689424   \n",
       "hay.10_wheat.10_maize.80          10          80        10  30.413487   \n",
       "\n",
       "                           CE_rcp45   CE_rcp26     meanCE     varCE  \n",
       "hay.0_wheat.20_maize.80   34.913673  36.495480  34.174959  7.644719  \n",
       "hay.0_wheat.10_maize.90   34.853083  36.565591  34.093311  8.567786  \n",
       "hay.0_wheat.0_maize.100   34.796495  36.655081  34.023866  9.553200  \n",
       "hay.10_wheat.20_maize.70  34.409415  35.951629  33.683489  7.317924  \n",
       "hay.10_wheat.10_maize.80  34.329397  35.976871  33.573252  8.166628  "
      ]
     },
     "execution_count": 43,
     "metadata": {},
     "output_type": "execute_result"
    }
   ],
   "source": [
    "CEs = pd.read_csv('CEs_PCSE.csv', sep=';', index_col=0, decimal=',')\n",
    "CEs['meanCE'] = CEs.loc[:,['CE_rcp85','CE_rcp45','CE_rcp26']].mean(axis=1)\n",
    "CEs['varCE'] = CEs.loc[:,['CE_rcp85','CE_rcp45','CE_rcp26']].var(axis=1)\n",
    "CEs.head()"
   ]
  },
  {
   "cell_type": "code",
   "execution_count": 56,
   "id": "ca3e08a1",
   "metadata": {},
   "outputs": [
    {
     "data": {
      "text/plain": [
       "'rgb (129.0, 116.1, 113.9)'"
      ]
     },
     "execution_count": 56,
     "metadata": {},
     "output_type": "execute_result"
    }
   ],
   "source": [
    "from plotly.colors import n_colors, hex_to_rgb\n",
    "\n",
    "#1b9e77\n",
    "#d95f02\n",
    "#7570b3\n",
    "color1 = hex_to_rgb('#1b9e77')\n",
    "color2 = hex_to_rgb('#d95f02')\n",
    "color3 = hex_to_rgb('#7570b3')\n",
    "colors = [color1, color2, color3]\n",
    "\n",
    "def get_colors(n, breakpoints=['#1b9e77', '#d95f02', '#7570b3']):\n",
    "    half_1 = int(n / 2)\n",
    "    half_2 = n - half_1\n",
    "\n",
    "    col_1 = n_colors(hex_to_rgb(breakpoints[0]), hex_to_rgb(breakpoints[1]), half_1, 'hex')\n",
    "    col_2 = n_colors(hex_to_rgb(breakpoints[1]), hex_to_rgb(breakpoints[2]), half_2, 'hex')\n",
    "    \n",
    "    return [*col_1, *col_2]\n",
    "\n",
    "\n",
    "def mix_color(weights, as_tuple=False, colors=['#1b9e77', '#d95f02', '#7570b3']):\n",
    "    \"\"\"mix the colors given the weights\"\"\"\n",
    "    colors = [hex_to_rgb(c) for c in colors]\n",
    "    r = sum([(w / 100) * c[0] for w, c in zip(weights, colors)])\n",
    "    g = sum([(w / 100) * c[1] for w, c in zip(weights, colors)])\n",
    "    b = sum([(w / 100) * c[2] for w, c in zip(weights, colors)])\n",
    "    \n",
    "    if as_tuple:\n",
    "        return (r, g, b)\n",
    "    else:\n",
    "        return f\"rgb ({r}, {g}, {b})\"\n",
    "\n",
    "\n",
    "mix_color([20,30,50])"
   ]
  },
  {
   "cell_type": "code",
   "execution_count": 91,
   "id": "12472565",
   "metadata": {},
   "outputs": [
    {
     "data": {
      "application/vnd.plotly.v1+json": {
       "config": {
        "plotlyServerURL": "https://plot.ly"
       },
       "data": [
        {
         "a": [
          20,
          10,
          0,
          20,
          10,
          0,
          20,
          10,
          0,
          20,
          10,
          0,
          20,
          10,
          0,
          20,
          10,
          0,
          20,
          10,
          0,
          20,
          10,
          0,
          20,
          10,
          0,
          10,
          0,
          0
         ],
         "b": [
          80,
          90,
          100,
          70,
          80,
          90,
          60,
          70,
          80,
          50,
          60,
          70,
          40,
          50,
          60,
          30,
          40,
          50,
          20,
          30,
          40,
          10,
          20,
          30,
          0,
          10,
          20,
          0,
          10,
          0
         ],
         "c": [
          0,
          0,
          0,
          10,
          10,
          10,
          20,
          20,
          20,
          30,
          30,
          30,
          40,
          40,
          40,
          50,
          50,
          50,
          60,
          60,
          60,
          70,
          70,
          70,
          80,
          80,
          80,
          90,
          90,
          100
         ],
         "hovertemplate": "<br>Weizen: %{a}%<br>Mais: %{b}%<br>Grünland: %{c}%<extra></extra>",
         "marker": {
          "color": [
           "rgb (179.00000000000003, 107.6, 25.400000000000002)",
           "rgb (198.0, 101.3, 13.700000000000001)",
           "rgb (217.0, 95.0, 2.0)",
           "rgb (168.99999999999997, 109.3, 43.1)",
           "rgb (188.0, 103.0, 31.400000000000002)",
           "rgb (207.0, 96.7, 19.700000000000003)",
           "rgb (159.0, 111.0, 60.800000000000004)",
           "rgb (177.99999999999997, 104.7, 49.10000000000001)",
           "rgb (197.00000000000003, 98.4, 37.400000000000006)",
           "rgb (149.0, 112.69999999999999, 78.5)",
           "rgb (167.99999999999997, 106.4, 66.8)",
           "rgb (186.99999999999997, 100.1, 55.099999999999994)",
           "rgb (139.00000000000003, 114.4, 96.20000000000002)",
           "rgb (158.0, 108.1, 84.50000000000001)",
           "rgb (177.0, 101.80000000000001, 72.80000000000001)",
           "rgb (129.0, 116.1, 113.9)",
           "rgb (148.0, 109.8, 102.2)",
           "rgb (167.0, 103.5, 90.5)",
           "rgb (119.0, 117.80000000000001, 131.6)",
           "rgb (138.0, 111.5, 119.89999999999999)",
           "rgb (157.0, 105.2, 108.19999999999999)",
           "rgb (109.0, 119.5, 149.3)",
           "rgb (128.0, 113.19999999999999, 137.6)",
           "rgb (147.0, 106.89999999999999, 125.89999999999999)",
           "rgb (99.00000000000001, 121.20000000000002, 167.00000000000003)",
           "rgb (118.00000000000001, 114.9, 155.3)",
           "rgb (137.0, 108.60000000000001, 143.60000000000002)",
           "rgb (108.0, 116.6, 173.0)",
           "rgb (127.0, 110.3, 161.29999999999998)",
           "rgb (117.0, 112.0, 179.0)"
          ],
          "size": 14
         },
         "mode": "markers",
         "showlegend": false,
         "subplot": "ternary",
         "type": "scatterternary"
        },
        {
         "hovertemplate": "%{text}<extra></extra>",
         "marker": {
          "color": [
           "rgb (179.00000000000003, 107.6, 25.400000000000002)",
           "rgb (198.0, 101.3, 13.700000000000001)",
           "rgb (217.0, 95.0, 2.0)",
           "rgb (168.99999999999997, 109.3, 43.1)",
           "rgb (188.0, 103.0, 31.400000000000002)",
           "rgb (207.0, 96.7, 19.700000000000003)",
           "rgb (159.0, 111.0, 60.800000000000004)",
           "rgb (177.99999999999997, 104.7, 49.10000000000001)",
           "rgb (197.00000000000003, 98.4, 37.400000000000006)",
           "rgb (149.0, 112.69999999999999, 78.5)",
           "rgb (167.99999999999997, 106.4, 66.8)",
           "rgb (186.99999999999997, 100.1, 55.099999999999994)",
           "rgb (139.00000000000003, 114.4, 96.20000000000002)",
           "rgb (158.0, 108.1, 84.50000000000001)",
           "rgb (177.0, 101.80000000000001, 72.80000000000001)",
           "rgb (129.0, 116.1, 113.9)",
           "rgb (148.0, 109.8, 102.2)",
           "rgb (167.0, 103.5, 90.5)",
           "rgb (119.0, 117.80000000000001, 131.6)",
           "rgb (138.0, 111.5, 119.89999999999999)",
           "rgb (157.0, 105.2, 108.19999999999999)",
           "rgb (109.0, 119.5, 149.3)",
           "rgb (128.0, 113.19999999999999, 137.6)",
           "rgb (147.0, 106.89999999999999, 125.89999999999999)",
           "rgb (99.00000000000001, 121.20000000000002, 167.00000000000003)",
           "rgb (118.00000000000001, 114.9, 155.3)",
           "rgb (137.0, 108.60000000000001, 143.60000000000002)",
           "rgb (108.0, 116.6, 173.0)",
           "rgb (127.0, 110.3, 161.29999999999998)",
           "rgb (117.0, 112.0, 179.0)"
          ],
          "size": 14
         },
         "mode": "markers",
         "showlegend": false,
         "text": [
          "Weizen: 20.0%<br>Mais: 80.0%<br>Grünland: 0.0%",
          "Weizen: 10.0%<br>Mais: 90.0%<br>Grünland: 0.0%",
          "Weizen: 0.0%<br>Mais: 100.0%<br>Grünland: 0.0%",
          "Weizen: 20.0%<br>Mais: 70.0%<br>Grünland: 10.0%",
          "Weizen: 10.0%<br>Mais: 80.0%<br>Grünland: 10.0%",
          "Weizen: 0.0%<br>Mais: 90.0%<br>Grünland: 10.0%",
          "Weizen: 20.0%<br>Mais: 60.0%<br>Grünland: 20.0%",
          "Weizen: 10.0%<br>Mais: 70.0%<br>Grünland: 20.0%",
          "Weizen: 0.0%<br>Mais: 80.0%<br>Grünland: 20.0%",
          "Weizen: 20.0%<br>Mais: 50.0%<br>Grünland: 30.0%",
          "Weizen: 10.0%<br>Mais: 60.0%<br>Grünland: 30.0%",
          "Weizen: 0.0%<br>Mais: 70.0%<br>Grünland: 30.0%",
          "Weizen: 20.0%<br>Mais: 40.0%<br>Grünland: 40.0%",
          "Weizen: 10.0%<br>Mais: 50.0%<br>Grünland: 40.0%",
          "Weizen: 0.0%<br>Mais: 60.0%<br>Grünland: 40.0%",
          "Weizen: 20.0%<br>Mais: 30.0%<br>Grünland: 50.0%",
          "Weizen: 10.0%<br>Mais: 40.0%<br>Grünland: 50.0%",
          "Weizen: 0.0%<br>Mais: 50.0%<br>Grünland: 50.0%",
          "Weizen: 20.0%<br>Mais: 20.0%<br>Grünland: 60.0%",
          "Weizen: 10.0%<br>Mais: 30.0%<br>Grünland: 60.0%",
          "Weizen: 0.0%<br>Mais: 40.0%<br>Grünland: 60.0%",
          "Weizen: 20.0%<br>Mais: 10.0%<br>Grünland: 70.0%",
          "Weizen: 10.0%<br>Mais: 20.0%<br>Grünland: 70.0%",
          "Weizen: 0.0%<br>Mais: 30.0%<br>Grünland: 70.0%",
          "Weizen: 20.0%<br>Mais: 0.0%<br>Grünland: 80.0%",
          "Weizen: 10.0%<br>Mais: 10.0%<br>Grünland: 80.0%",
          "Weizen: 0.0%<br>Mais: 20.0%<br>Grünland: 80.0%",
          "Weizen: 10.0%<br>Mais: 0.0%<br>Grünland: 90.0%",
          "Weizen: 0.0%<br>Mais: 10.0%<br>Grünland: 90.0%",
          "Weizen: 0.0%<br>Mais: 0.0%<br>Grünland: 100.0%"
         ],
         "type": "scatter",
         "x": [
          34.17495875970737,
          34.09331140144287,
          34.02386556185717,
          33.6834892533867,
          33.573251742915495,
          33.48317827576567,
          33.21399436712903,
          33.0743759328894,
          32.95762677167077,
          32.746633228678434,
          32.584746687676436,
          32.44594405366306,
          32.293778708133495,
          32.101660857057766,
          31.9460723802156,
          31.8487847409156,
          31.63856182878273,
          31.454574394474236,
          31.393498365235768,
          31.189568413623167,
          30.990706176188734,
          30.902740151913665,
          30.722393473818936,
          30.534130533483932,
          30.380475736539665,
          30.227991775221298,
          30.057857328166268,
          29.710780619599202,
          29.562804959256834,
          29.05083289600857
         ],
         "y": [
          7.644718663335961,
          8.567785562035962,
          9.55320048193845,
          7.317924006381812,
          8.166628041352928,
          9.069918080483525,
          7.139781665329236,
          7.913980157133146,
          8.730201539214297,
          7.137384588544652,
          7.86209882099913,
          8.57955526505047,
          7.17208409948068,
          7.865569809012383,
          8.572049468919554,
          7.116316015647513,
          7.845906521593587,
          8.569833012076938,
          6.923700126594708,
          7.746050435376352,
          8.506448831972286,
          6.453916712803446,
          7.451465926130099,
          8.357823746116756,
          5.899394733275632,
          6.921901441132576,
          7.999518921374496,
          6.33111138893097,
          7.427348160504784,
          6.795722557729142
         ]
        },
        {
         "hovertemplate": "%{text}<extra></extra>",
         "marker": {
          "color": [
           "rgb (179.00000000000003, 107.6, 25.400000000000002)",
           "rgb (198.0, 101.3, 13.700000000000001)",
           "rgb (217.0, 95.0, 2.0)",
           "rgb (168.99999999999997, 109.3, 43.1)",
           "rgb (188.0, 103.0, 31.400000000000002)",
           "rgb (207.0, 96.7, 19.700000000000003)",
           "rgb (159.0, 111.0, 60.800000000000004)",
           "rgb (177.99999999999997, 104.7, 49.10000000000001)",
           "rgb (197.00000000000003, 98.4, 37.400000000000006)",
           "rgb (149.0, 112.69999999999999, 78.5)",
           "rgb (167.99999999999997, 106.4, 66.8)",
           "rgb (186.99999999999997, 100.1, 55.099999999999994)",
           "rgb (139.00000000000003, 114.4, 96.20000000000002)",
           "rgb (158.0, 108.1, 84.50000000000001)",
           "rgb (177.0, 101.80000000000001, 72.80000000000001)",
           "rgb (129.0, 116.1, 113.9)",
           "rgb (148.0, 109.8, 102.2)",
           "rgb (167.0, 103.5, 90.5)",
           "rgb (119.0, 117.80000000000001, 131.6)",
           "rgb (138.0, 111.5, 119.89999999999999)",
           "rgb (157.0, 105.2, 108.19999999999999)",
           "rgb (109.0, 119.5, 149.3)",
           "rgb (128.0, 113.19999999999999, 137.6)",
           "rgb (147.0, 106.89999999999999, 125.89999999999999)",
           "rgb (99.00000000000001, 121.20000000000002, 167.00000000000003)",
           "rgb (118.00000000000001, 114.9, 155.3)",
           "rgb (137.0, 108.60000000000001, 143.60000000000002)",
           "rgb (108.0, 116.6, 173.0)",
           "rgb (127.0, 110.3, 161.29999999999998)",
           "rgb (117.0, 112.0, 179.0)"
          ]
         },
         "showlegend": false,
         "text": [
          "Weizen: 20.0%<br>Mais: 80.0%<br>Grünland: 0.0%",
          "Weizen: 10.0%<br>Mais: 90.0%<br>Grünland: 0.0%",
          "Weizen: 0.0%<br>Mais: 100.0%<br>Grünland: 0.0%",
          "Weizen: 20.0%<br>Mais: 70.0%<br>Grünland: 10.0%",
          "Weizen: 10.0%<br>Mais: 80.0%<br>Grünland: 10.0%",
          "Weizen: 0.0%<br>Mais: 90.0%<br>Grünland: 10.0%",
          "Weizen: 20.0%<br>Mais: 60.0%<br>Grünland: 20.0%",
          "Weizen: 10.0%<br>Mais: 70.0%<br>Grünland: 20.0%",
          "Weizen: 0.0%<br>Mais: 80.0%<br>Grünland: 20.0%",
          "Weizen: 20.0%<br>Mais: 50.0%<br>Grünland: 30.0%",
          "Weizen: 10.0%<br>Mais: 60.0%<br>Grünland: 30.0%",
          "Weizen: 0.0%<br>Mais: 70.0%<br>Grünland: 30.0%",
          "Weizen: 20.0%<br>Mais: 40.0%<br>Grünland: 40.0%",
          "Weizen: 10.0%<br>Mais: 50.0%<br>Grünland: 40.0%",
          "Weizen: 0.0%<br>Mais: 60.0%<br>Grünland: 40.0%",
          "Weizen: 20.0%<br>Mais: 30.0%<br>Grünland: 50.0%",
          "Weizen: 10.0%<br>Mais: 40.0%<br>Grünland: 50.0%",
          "Weizen: 0.0%<br>Mais: 50.0%<br>Grünland: 50.0%",
          "Weizen: 20.0%<br>Mais: 20.0%<br>Grünland: 60.0%",
          "Weizen: 10.0%<br>Mais: 30.0%<br>Grünland: 60.0%",
          "Weizen: 0.0%<br>Mais: 40.0%<br>Grünland: 60.0%",
          "Weizen: 20.0%<br>Mais: 10.0%<br>Grünland: 70.0%",
          "Weizen: 10.0%<br>Mais: 20.0%<br>Grünland: 70.0%",
          "Weizen: 0.0%<br>Mais: 30.0%<br>Grünland: 70.0%",
          "Weizen: 20.0%<br>Mais: 0.0%<br>Grünland: 80.0%",
          "Weizen: 10.0%<br>Mais: 10.0%<br>Grünland: 80.0%",
          "Weizen: 0.0%<br>Mais: 20.0%<br>Grünland: 80.0%",
          "Weizen: 10.0%<br>Mais: 0.0%<br>Grünland: 90.0%",
          "Weizen: 0.0%<br>Mais: 10.0%<br>Grünland: 90.0%",
          "Weizen: 0.0%<br>Mais: 0.0%<br>Grünland: 100.0%"
         ],
         "type": "bar",
         "x": [
          0,
          1,
          2,
          3,
          4,
          5,
          6,
          7,
          8,
          9,
          10,
          11,
          12,
          13,
          14,
          15,
          16,
          17,
          18,
          19,
          20,
          21,
          22,
          23,
          24,
          25,
          26,
          27,
          28,
          29
         ],
         "xaxis": "x2",
         "y": [
          0.1,
          0.1,
          0.1,
          0.1,
          0.1,
          0.1,
          0.1,
          0.1,
          0.1,
          0.1,
          0.1,
          0.1,
          0.1,
          0.1,
          0.1,
          0.1,
          0.1,
          0.1,
          0.1,
          0.1,
          0.1,
          0.1,
          0.1,
          0.1,
          0.1,
          0.1,
          0.1,
          0.1,
          0.1,
          0.1
         ],
         "yaxis": "y2"
        }
       ],
       "layout": {
        "margin": {
         "r": 10,
         "t": 4
        },
        "template": {
         "data": {
          "scatter": [
           {
            "type": "scatter"
           }
          ]
         }
        },
        "ternary": {
         "aaxis": {
          "title": {
           "text": "Weizen"
          }
         },
         "baxis": {
          "title": {
           "text": "Mais"
          }
         },
         "caxis": {
          "title": {
           "text": "Grünland"
          }
         },
         "domain": {
          "x": [
           0.55,
           1
          ],
          "y": [
           0,
           0.425
          ]
         },
         "sum": 100
        },
        "xaxis": {
         "anchor": "y",
         "domain": [
          0,
          0.45
         ],
         "title": {
          "text": "Variance"
         }
        },
        "xaxis2": {
         "anchor": "y2",
         "domain": [
          0.65,
          0.9
         ],
         "visible": false,
         "zeroline": false
        },
        "yaxis": {
         "anchor": "x",
         "domain": [
          0,
          1
         ],
         "title": {
          "text": "Mean"
         }
        },
        "yaxis2": {
         "anchor": "x2",
         "domain": [
          0.65,
          0.7
         ],
         "visible": false,
         "zeroline": false
        }
       }
      }
     },
     "metadata": {},
     "output_type": "display_data"
    }
   ],
   "source": [
    "def build_ce_ternary(data: pd.DataFrame, labels=dict(a='A', b='B', c='C'), mix_colors=['#1b9e77', '#d95f02', '#7570b3']) -> go.Figure:\n",
    "    \"\"\"\n",
    "    Build the ternary plot for the given dataframe.\n",
    "    \"\"\"\n",
    "    fig = make_subplots(rows=2, cols=2, specs=[[{'rowspan': 2}, {}], [None, {'type': 'ternary'}]])\n",
    "    colors = [mix_color(row.iloc[:3].values, colors=mix_colors) for _, row in data.iterrows()]\n",
    "    \n",
    "    fig.add_trace(go.Scatterternary(\n",
    "        mode='markers',\n",
    "        a=[row.iloc[0] for _, row in data.iterrows()],\n",
    "        b=[row.iloc[1] for _, row in data.iterrows()],\n",
    "        c=[row.iloc[2] for _, row in data.iterrows()],\n",
    "        marker=dict(\n",
    "            size=14,\n",
    "            color=colors\n",
    "        ),\n",
    "        hovertemplate=\"<br>\" + labels['a'] +  \": %{a}%<br>\" + labels['b'] + \": %{b}%<br>\" + labels['c'] + \": %{c}%<extra></extra>\",\n",
    "        showlegend=False\n",
    "    ), row=2, col=2)\n",
    "\n",
    "    fig.add_trace(go.Scatter(\n",
    "        x=data.meanCE,\n",
    "        y=data.varCE,\n",
    "        mode='markers',\n",
    "        showlegend=False,\n",
    "        marker=dict(\n",
    "            size=14,\n",
    "            color=colors\n",
    "        ),\n",
    "        text=[f\"{labels['a']}: {row.iloc[0]}%<br>{labels['b']}: {row.iloc[1]}%<br>{labels['c']}: {row.iloc[2]}%\" for _, row in data.\n",
    "        iterrows()],\n",
    "        hovertemplate=\"%{text}<extra></extra>\"\n",
    "    ))\n",
    "\n",
    "    fig.update_layout(\n",
    "        template='none',\n",
    "        ternary=dict(\n",
    "            sum=100,\n",
    "            aaxis=dict(title=labels['a']), \n",
    "            baxis=dict(title=labels['b']), \n",
    "            caxis=dict(title=labels['c'])\n",
    "        ),\n",
    "        xaxis=dict(title=\"Variance\"),\n",
    "        yaxis=dict(title=\"Mean\")\n",
    "    )\n",
    "\n",
    "    fig.add_trace(go.Bar(\n",
    "        y=[0.1 for _ in range(len(colors))],\n",
    "        x=[_ for _ in range(len(colors))],\n",
    "        marker_color=colors,\n",
    "        text=[f\"{labels['a']}: {row.iloc[0]}%<br>{labels['b']}: {row.iloc[1]}%<br>{labels['c']}: {row.iloc[2]}%\" for _, row in data.iterrows()],\n",
    "        hovertemplate=\"%{text}<extra></extra>\",\n",
    "        showlegend=False\n",
    "    ), row=1, col=2)\n",
    "\n",
    "    fig.update_layout(\n",
    "        yaxis2=dict(domain=[0.65,0.70], zeroline=False, visible=False),\n",
    "        xaxis2=dict(domain=[0.65, 0.9], zeroline=False, visible=False),\n",
    "        margin=dict(t=4, r=10),\n",
    "\n",
    "    )\n",
    "    \n",
    "    return fig\n",
    "\n",
    "build_ce_ternary(CEs, dict(a='Weizen', b='Mais', c='Grünland'))"
   ]
  },
  {
   "cell_type": "code",
   "execution_count": null,
   "id": "b67089d4",
   "metadata": {},
   "outputs": [],
   "source": []
  },
  {
   "cell_type": "code",
   "execution_count": 3,
   "id": "fda20501-36b0-4ffe-be49-7549e702b52f",
   "metadata": {},
   "outputs": [
    {
     "data": {
      "application/vnd.plotly.v1+json": {
       "config": {
        "plotlyServerURL": "https://plot.ly"
       },
       "data": [
        {
         "mode": "markers",
         "name": "Realisations",
         "type": "scatter",
         "x": [
          7.644718663335961,
          8.567785562035962,
          9.55320048193845,
          7.317924006381812,
          8.166628041352928,
          9.069918080483525,
          7.139781665329236,
          7.913980157133146,
          8.730201539214297,
          7.137384588544652,
          7.86209882099913,
          8.57955526505047,
          7.17208409948068,
          7.865569809012383,
          8.572049468919554,
          7.116316015647513,
          7.845906521593587,
          8.569833012076938,
          6.923700126594708,
          7.746050435376352,
          8.506448831972286,
          6.453916712803446,
          7.451465926130099,
          8.357823746116756,
          5.899394733275632,
          6.921901441132576,
          7.999518921374496,
          6.33111138893097,
          7.427348160504784,
          6.795722557729142
         ],
         "xaxis": "x",
         "y": [
          34.17495875970737,
          34.09331140144287,
          34.02386556185717,
          33.6834892533867,
          33.573251742915495,
          33.48317827576567,
          33.21399436712903,
          33.0743759328894,
          32.95762677167077,
          32.746633228678434,
          32.584746687676436,
          32.44594405366306,
          32.293778708133495,
          32.101660857057766,
          31.9460723802156,
          31.8487847409156,
          31.63856182878273,
          31.454574394474236,
          31.393498365235768,
          31.189568413623167,
          30.990706176188734,
          30.902740151913665,
          30.722393473818936,
          30.534130533483932,
          30.380475736539665,
          30.227991775221298,
          30.057857328166268,
          29.710780619599202,
          29.562804959256834,
          29.05083289600857
         ],
         "yaxis": "y"
        },
        {
         "domain": {
          "x": [
           0.64,
           1
          ],
          "y": [
           0,
           1
          ]
         },
         "name": "BAU",
         "type": "pie",
         "values": [
          10,
          20,
          70
         ]
        }
       ],
       "layout": {
        "template": {
         "data": {
          "scatter": [
           {
            "type": "scatter"
           }
          ]
         }
        },
        "xaxis": {
         "anchor": "y",
         "domain": [
          0,
          0.54
         ],
         "title": {
          "text": "Variance"
         }
        },
        "yaxis": {
         "anchor": "x",
         "domain": [
          0,
          1
         ],
         "title": {
          "text": "Mean"
         }
        }
       }
      }
     },
     "metadata": {},
     "output_type": "display_data"
    }
   ],
   "source": [
    "fig = make_subplots(\n",
    "    rows=1, cols=2,\n",
    "    column_widths=[0.6, 0.4],\n",
    "    specs=[[{\"type\": \"scatter\"}, {\"type\": \"pie\"}]])\n",
    "\n",
    "fig.add_trace( go.Scatter(x=CEs.varCE, y=CEs.meanCE, mode='markers', name='Realisations'), row=1, col=1) \n",
    "fig.add_trace( go.Pie(values=CEs.loc['hay.70_wheat.10_maize.20',['wheat_perc','maize_perc','hay_perc']], name='BAU'),row=1, col=2) \n",
    "\n",
    "fig.update_layout(template='none', xaxis_title='Variance', yaxis_title='Mean')\n",
    "fig.show()"
   ]
  },
  {
   "cell_type": "code",
   "execution_count": null,
   "id": "ce9d9d8e-903a-42fe-8c7f-3f91be87f555",
   "metadata": {},
   "outputs": [],
   "source": [
    "#does not work as expected\n",
    "\n",
    "fig = make_subplots(rows=1, cols=1, specs=[[{\"type\": \"pie\"}]])\n",
    "#fig.add_trace( go.Scatter(x=CEs.varCE, y=CEs.meanCE, mode='markers' ), row=1, col=1) \n",
    "for i in CEs.index:\n",
    "    fig.add_trace( go.Pie(values=CEs.loc[i,['wheat_perc','maize_perc','hay_perc']], name=i, textinfo='none',\n",
    "                          hoverinfo='none', domain={'x': [(CEs.loc[i,['varCE']].values[0]-5.3)/4.8-0.1, (CEs.loc[i,['varCE']].values[0]-5.3)/4.8+0.1], \n",
    "                                                    'y': [(CEs.loc[i,['meanCE']].values[0]-28.)/7.-0.1, (CEs.loc[i,['meanCE']].values[0]-28.)/7.+0.1]}),row=1, col=1) \n",
    "fig.update_layout(title='Title', template='none', xaxis={'range':(5.3,10.1)}, yaxis={'range':(28.,35.)} )\n"
   ]
  },
  {
   "cell_type": "code",
   "execution_count": null,
   "id": "173f715e-c455-4ccf-b8d4-5501e1139f79",
   "metadata": {},
   "outputs": [],
   "source": []
  }
 ],
 "metadata": {
  "kernelspec": {
   "display_name": "Python 3.9.13 ('base')",
   "language": "python",
   "name": "python3"
  },
  "language_info": {
   "codemirror_mode": {
    "name": "ipython",
    "version": 3
   },
   "file_extension": ".py",
   "mimetype": "text/x-python",
   "name": "python",
   "nbconvert_exporter": "python",
   "pygments_lexer": "ipython3",
   "version": "3.9.13"
  },
  "vscode": {
   "interpreter": {
    "hash": "2c57ebfed52ffd848a0d2f36f1ea9c0a9060c9b67397fbb725d6aa92a9494b08"
   }
  }
 },
 "nbformat": 4,
 "nbformat_minor": 5
}
