{
 "cells": [
  {
   "cell_type": "markdown",
   "metadata": {},
   "source": [
    "# Bubble plot\n",
    "\n",
    "Use this notebook to build a new `cordex_overview.csv` from the specified CORDEX netCDF dataset."
   ]
  },
  {
   "cell_type": "code",
   "execution_count": 1,
   "metadata": {},
   "outputs": [],
   "source": [
    "from ruins.core import build_config\n",
    "from collections import defaultdict\n",
    "import plotly.graph_objects as go\n",
    "import pandas as pd"
   ]
  },
  {
   "cell_type": "markdown",
   "metadata": {},
   "source": [
    "Define the DATA_FILE here, without file ending."
   ]
  },
  {
   "cell_type": "code",
   "execution_count": 2,
   "metadata": {},
   "outputs": [],
   "source": [
    "DATA_FILE = 'cordex_krummh'\n",
    "config, dm = build_config()\n"
   ]
  },
  {
   "cell_type": "markdown",
   "metadata": {},
   "source": [
    "This cell will write the new CSV file into the data folder. Keep in mind, that you still have to push it into the data zip on Zenodo."
   ]
  },
  {
   "cell_type": "code",
   "execution_count": 7,
   "metadata": {},
   "outputs": [
    {
     "name": "stdout",
     "output_type": "stream",
     "text": [
      "{'GCM': 'HadGEM2-ES', 'RCM': 'COSMO-crCLIM-v1-1', 'RCP': 'rcp85', 'ensemble': 'r1i1p1', 'institute': 'CLMcom-ETH'}\n"
     ]
    }
   ],
   "source": [
    "# get krummh models\n",
    "krumm = dm[DATA_FILE].read()\n",
    "for v in krumm.data_vars:\n",
    "    print(krumm[v].attrs)\n",
    "    break\n",
    "\n",
    "# build the structure\n",
    "combinations = [krumm[v].attrs for v in krumm.data_vars]\n",
    "N = len(combinations)\n",
    "\n",
    "# aggregate\n",
    "agg = defaultdict(lambda: defaultdict(lambda: defaultdict(lambda: 0)))\n",
    "\n",
    "for c in combinations:\n",
    "    agg[c['GCM']][c['RCM']][c['RCP']] += 1\n",
    "\n",
    "list(agg.keys())\n",
    "\n",
    "ids = [\"RUINS\"]\n",
    "labels = [\"RUINS\"]\n",
    "parents = [\"\"]\n",
    "values = [N]\n",
    "customdata = [('100% of RUINS', '-',)]\n",
    "colors = [\"\"]\n",
    "\n",
    "# sum([sum([_ for _ in v.values()]) for v in agg['CanESM2'].values()])\n",
    "# add the gcms\n",
    "for gcm in agg.keys():\n",
    "    ids.append(f'RUINS.{gcm}')\n",
    "    labels.append(gcm)\n",
    "    parents.append('RUINS')\n",
    "    gcm_val = sum([sum([r for r in rcm.values()]) for rcm in agg[gcm].values()])\n",
    "    values.append(gcm_val)\n",
    "    customdata.append((f'{int(gcm_val / N * 100)}% of RUINS', '-',))\n",
    "\n",
    "    # add the RCMs\n",
    "    for rcm in agg[gcm].keys():\n",
    "        ids.append(f'RUINS.{gcm}.{rcm}')\n",
    "        labels.append(rcm)\n",
    "        parents.append(f'RUINS.{gcm}')\n",
    "        rcm_val = sum([r for r in agg[gcm][rcm].values()])\n",
    "        values.append(rcm_val)\n",
    "        customdata.append((f'{int(rcm_val / N * 100)}% of RUINS' ,f'{int(rcm_val / gcm_val * 100)}% of {gcm}' ,))\n",
    "\n",
    "        # add the RCPs\n",
    "        for rcp in agg[gcm][rcm].keys():\n",
    "            ids.append(f'RUINS.{gcm}.{rcm}.{rcp}')\n",
    "            labels.append(rcp.upper())\n",
    "            parents.append(f'RUINS.{gcm}.{rcm}')\n",
    "            val = agg[gcm][rcm][rcp]\n",
    "            values.append(val)\n",
    "            customdata.append((f'{int(val / N * 100)}% of RUINS', f'{int(val / rcm_val * 100)}% of {rcm}',))\n",
    "\n",
    "df = pd.DataFrame(dict(ids=ids, labels=labels, parents=parents, values=values, customdata1=[_[0] for _ in customdata], customdata2=[_[1] for _ in customdata]))\n",
    "#df.to_csv('../data/cordex_overview.csv', index=None)"
   ]
  },
  {
   "cell_type": "markdown",
   "metadata": {},
   "source": [
    "## TEST\n",
    "\n",
    "This is for testing purposes only: This is a clone of the new `ruins.plotting.sunburst` function"
   ]
  },
  {
   "cell_type": "code",
   "execution_count": 8,
   "metadata": {},
   "outputs": [
    {
     "data": {
      "application/vnd.plotly.v1+json": {
       "config": {
        "plotlyServerURL": "https://plot.ly"
       },
       "data": [
        {
         "branchvalues": "total",
         "customdata": [
          [
           "100% of RUINS",
           "-"
          ],
          [
           "15% of RUINS",
           "-"
          ],
          [
           "0% of RUINS",
           "2% of HadGEM2-ES"
          ],
          [
           "0% of RUINS",
           "100% of COSMO-crCLIM-v1-1"
          ],
          [
           "0% of RUINS",
           "4% of HadGEM2-ES"
          ],
          [
           "0% of RUINS",
           "50% of CCLM4-8-17"
          ],
          [
           "0% of RUINS",
           "50% of CCLM4-8-17"
          ],
          [
           "0% of RUINS",
           "4% of HadGEM2-ES"
          ],
          [
           "0% of RUINS",
           "50% of HIRHAM5"
          ],
          [
           "0% of RUINS",
           "50% of HIRHAM5"
          ],
          [
           "0% of RUINS",
           "6% of HadGEM2-ES"
          ],
          [
           "0% of RUINS",
           "33% of REMO2015"
          ],
          [
           "0% of RUINS",
           "33% of REMO2015"
          ],
          [
           "0% of RUINS",
           "33% of REMO2015"
          ],
          [
           "0% of RUINS",
           "6% of HadGEM2-ES"
          ],
          [
           "0% of RUINS",
           "33% of RACMO22E"
          ],
          [
           "0% of RUINS",
           "33% of RACMO22E"
          ],
          [
           "0% of RUINS",
           "33% of RACMO22E"
          ],
          [
           "0% of RUINS",
           "2% of HadGEM2-ES"
          ],
          [
           "0% of RUINS",
           "100% of HadREM3-GA7-05"
          ],
          [
           "5% of RUINS",
           "38% of HadGEM2-ES"
          ],
          [
           "5% of RUINS",
           "100% of WETTREG2013"
          ],
          [
           "5% of RUINS",
           "34% of HadGEM2-ES"
          ],
          [
           "1% of RUINS",
           "37% of STARS3"
          ],
          [
           "3% of RUINS",
           "62% of STARS3"
          ],
          [
           "0% of RUINS",
           "2% of HadGEM2-ES"
          ],
          [
           "0% of RUINS",
           "100% of WRF361H"
          ],
          [
           "20% of RUINS",
           "-"
          ],
          [
           "0% of RUINS",
           "4% of M-MPI-ESM-LR"
          ],
          [
           "0% of RUINS",
           "100% of COSMO-crCLIM-v1-1"
          ],
          [
           "0% of RUINS",
           "4% of M-MPI-ESM-LR"
          ],
          [
           "0% of RUINS",
           "33% of CCLM4-8-17"
          ],
          [
           "0% of RUINS",
           "33% of CCLM4-8-17"
          ],
          [
           "0% of RUINS",
           "33% of CCLM4-8-17"
          ],
          [
           "0% of RUINS",
           "1% of M-MPI-ESM-LR"
          ],
          [
           "0% of RUINS",
           "100% of HIRHAM5"
          ],
          [
           "0% of RUINS",
           "1% of M-MPI-ESM-LR"
          ],
          [
           "0% of RUINS",
           "100% of REMO2015"
          ],
          [
           "0% of RUINS",
           "3% of M-MPI-ESM-LR"
          ],
          [
           "0% of RUINS",
           "50% of RACMO22E"
          ],
          [
           "0% of RUINS",
           "50% of RACMO22E"
          ],
          [
           "0% of RUINS",
           "1% of M-MPI-ESM-LR"
          ],
          [
           "0% of RUINS",
           "100% of HadREM3-GA7-05"
          ],
          [
           "1% of RUINS",
           "9% of M-MPI-ESM-LR"
          ],
          [
           "0% of RUINS",
           "33% of REMO2009"
          ],
          [
           "0% of RUINS",
           "33% of REMO2009"
          ],
          [
           "0% of RUINS",
           "33% of REMO2009"
          ],
          [
           "0% of RUINS",
           "1% of M-MPI-ESM-LR"
          ],
          [
           "0% of RUINS",
           "100% of WRF361H"
          ],
          [
           "4% of RUINS",
           "22% of M-MPI-ESM-LR"
          ],
          [
           "1% of RUINS",
           "28% of WETTREG2013"
          ],
          [
           "3% of RUINS",
           "71% of WETTREG2013"
          ],
          [
           "5% of RUINS",
           "29% of M-MPI-ESM-LR"
          ],
          [
           "2% of RUINS",
           "44% of STARS3"
          ],
          [
           "3% of RUINS",
           "55% of STARS3"
          ],
          [
           "3% of RUINS",
           "19% of M-MPI-ESM-LR"
          ],
          [
           "0% of RUINS",
           "25% of EPISODES2018"
          ],
          [
           "0% of RUINS",
           "25% of EPISODES2018"
          ],
          [
           "0% of RUINS",
           "25% of EPISODES2018"
          ],
          [
           "0% of RUINS",
           "25% of EPISODES2018"
          ],
          [
           "4% of RUINS",
           "-"
          ],
          [
           "0% of RUINS",
           "7% of NorESM1-M"
          ],
          [
           "0% of RUINS",
           "100% of COSMO-crCLIM-v1-1"
          ],
          [
           "0% of RUINS",
           "15% of NorESM1-M"
          ],
          [
           "0% of RUINS",
           "50% of HIRHAM5"
          ],
          [
           "0% of RUINS",
           "50% of HIRHAM5"
          ],
          [
           "0% of RUINS",
           "23% of NorESM1-M"
          ],
          [
           "0% of RUINS",
           "33% of REMO2015"
          ],
          [
           "0% of RUINS",
           "33% of REMO2015"
          ],
          [
           "0% of RUINS",
           "33% of REMO2015"
          ],
          [
           "0% of RUINS",
           "15% of NorESM1-M"
          ],
          [
           "0% of RUINS",
           "50% of RACMO22E"
          ],
          [
           "0% of RUINS",
           "50% of RACMO22E"
          ],
          [
           "0% of RUINS",
           "7% of NorESM1-M"
          ],
          [
           "0% of RUINS",
           "100% of HadREM3-GA7-05"
          ],
          [
           "1% of RUINS",
           "30% of NorESM1-M"
          ],
          [
           "0% of RUINS",
           "25% of EPISODES2018"
          ],
          [
           "0% of RUINS",
           "25% of EPISODES2018"
          ],
          [
           "0% of RUINS",
           "25% of EPISODES2018"
          ],
          [
           "0% of RUINS",
           "25% of EPISODES2018"
          ],
          [
           "13% of RUINS",
           "-"
          ],
          [
           "0% of RUINS",
           "4% of CERFACS-CNRM-CM5"
          ],
          [
           "0% of RUINS",
           "50% of CCLM4-8-17"
          ],
          [
           "0% of RUINS",
           "50% of CCLM4-8-17"
          ],
          [
           "0% of RUINS",
           "2% of CERFACS-CNRM-CM5"
          ],
          [
           "0% of RUINS",
           "100% of HIRHAM5"
          ],
          [
           "0% of RUINS",
           "4% of CERFACS-CNRM-CM5"
          ],
          [
           "0% of RUINS",
           "100% of REMO2015"
          ],
          [
           "0% of RUINS",
           "7% of CERFACS-CNRM-CM5"
          ],
          [
           "0% of RUINS",
           "33% of RACMO22E"
          ],
          [
           "0% of RUINS",
           "33% of RACMO22E"
          ],
          [
           "0% of RUINS",
           "33% of RACMO22E"
          ],
          [
           "6% of RUINS",
           "47% of CERFACS-CNRM-CM5"
          ],
          [
           "6% of RUINS",
           "100% of WETTREG2013"
          ],
          [
           "3% of RUINS",
           "23% of CERFACS-CNRM-CM5"
          ],
          [
           "3% of RUINS",
           "100% of STARS3"
          ],
          [
           "1% of RUINS",
           "9% of CERFACS-CNRM-CM5"
          ],
          [
           "0% of RUINS",
           "25% of EPISODES2018"
          ],
          [
           "0% of RUINS",
           "25% of EPISODES2018"
          ],
          [
           "0% of RUINS",
           "25% of EPISODES2018"
          ],
          [
           "0% of RUINS",
           "25% of EPISODES2018"
          ],
          [
           "17% of RUINS",
           "-"
          ],
          [
           "0% of RUINS",
           "5% of EC-EARTH"
          ],
          [
           "0% of RUINS",
           "33% of CCLM4-8-17"
          ],
          [
           "0% of RUINS",
           "33% of CCLM4-8-17"
          ],
          [
           "0% of RUINS",
           "33% of CCLM4-8-17"
          ],
          [
           "1% of RUINS",
           "9% of EC-EARTH"
          ],
          [
           "0% of RUINS",
           "20% of HIRHAM5"
          ],
          [
           "0% of RUINS",
           "20% of HIRHAM5"
          ],
          [
           "0% of RUINS",
           "60% of HIRHAM5"
          ],
          [
           "0% of RUINS",
           "5% of EC-EARTH"
          ],
          [
           "0% of RUINS",
           "33% of REMO2015"
          ],
          [
           "0% of RUINS",
           "33% of REMO2015"
          ],
          [
           "0% of RUINS",
           "33% of REMO2015"
          ],
          [
           "1% of RUINS",
           "10% of EC-EARTH"
          ],
          [
           "0% of RUINS",
           "16% of RACMO22E"
          ],
          [
           "0% of RUINS",
           "33% of RACMO22E"
          ],
          [
           "0% of RUINS",
           "50% of RACMO22E"
          ],
          [
           "0% of RUINS",
           "1% of EC-EARTH"
          ],
          [
           "0% of RUINS",
           "100% of HadREM3-GA7-05"
          ],
          [
           "3% of RUINS",
           "18% of EC-EARTH"
          ],
          [
           "3% of RUINS",
           "100% of WETTREG2013"
          ],
          [
           "5% of RUINS",
           "32% of EC-EARTH"
          ],
          [
           "2% of RUINS",
           "44% of STARS3"
          ],
          [
           "3% of RUINS",
           "55% of STARS3"
          ],
          [
           "0% of RUINS",
           "1% of EC-EARTH"
          ],
          [
           "0% of RUINS",
           "100% of WRF361H"
          ],
          [
           "2% of RUINS",
           "14% of EC-EARTH"
          ],
          [
           "0% of RUINS",
           "25% of EPISODES2018"
          ],
          [
           "0% of RUINS",
           "37% of EPISODES2018"
          ],
          [
           "0% of RUINS",
           "37% of EPISODES2018"
          ],
          [
           "11% of RUINS",
           "-"
          ],
          [
           "0% of RUINS",
           "5% of MIROC5"
          ],
          [
           "0% of RUINS",
           "50% of CCLM4-8-17"
          ],
          [
           "0% of RUINS",
           "50% of CCLM4-8-17"
          ],
          [
           "0% of RUINS",
           "5% of MIROC5"
          ],
          [
           "0% of RUINS",
           "50% of REMO2015"
          ],
          [
           "0% of RUINS",
           "50% of REMO2015"
          ],
          [
           "6% of RUINS",
           "58% of MIROC5"
          ],
          [
           "6% of RUINS",
           "100% of WETTREG2013"
          ],
          [
           "3% of RUINS",
           "29% of MIROC5"
          ],
          [
           "3% of RUINS",
           "100% of STARS3"
          ],
          [
           "0% of RUINS",
           "-"
          ],
          [
           "0% of RUINS",
           "100% of IPSL-CM5A-LR"
          ],
          [
           "0% of RUINS",
           "100% of REMO2015"
          ],
          [
           "0% of RUINS",
           "-"
          ],
          [
           "0% of RUINS",
           "50% of IPSL-CM5A-MR"
          ],
          [
           "0% of RUINS",
           "100% of REMO2015"
          ],
          [
           "0% of RUINS",
           "50% of IPSL-CM5A-MR"
          ],
          [
           "0% of RUINS",
           "100% of RACMO22E"
          ],
          [
           "0% of RUINS",
           "-"
          ],
          [
           "0% of RUINS",
           "100% of GFDL-GFDL-ESM2G"
          ],
          [
           "0% of RUINS",
           "100% of REMO2015"
          ],
          [
           "16% of RUINS",
           "-"
          ],
          [
           "6% of RUINS",
           "39% of CanESM2"
          ],
          [
           "6% of RUINS",
           "100% of WETTREG2013"
          ],
          [
           "0% of RUINS",
           "1% of CanESM2"
          ],
          [
           "0% of RUINS",
           "100% of CCLM4-8-17"
          ],
          [
           "0% of RUINS",
           "1% of CanESM2"
          ],
          [
           "0% of RUINS",
           "100% of REMO2015"
          ],
          [
           "3% of RUINS",
           "19% of CanESM2"
          ],
          [
           "3% of RUINS",
           "100% of STARS3"
          ],
          [
           "6% of RUINS",
           "37% of CanESM2"
          ],
          [
           "1% of RUINS",
           "26% of EPISODES2018"
          ],
          [
           "1% of RUINS",
           "21% of EPISODES2018"
          ],
          [
           "1% of RUINS",
           "26% of EPISODES2018"
          ],
          [
           "1% of RUINS",
           "26% of EPISODES2018"
          ]
         ],
         "hovertemplate": "<b>Name</b>: %{label}<br><b>Total</b>: %{value}<br><br>%{customdata[0]}<br>%{customdata[1]}",
         "ids": [
          "RUINS",
          "RUINS.HadGEM2-ES",
          "RUINS.HadGEM2-ES.COSMO-crCLIM-v1-1",
          "RUINS.HadGEM2-ES.COSMO-crCLIM-v1-1.rcp85",
          "RUINS.HadGEM2-ES.CCLM4-8-17",
          "RUINS.HadGEM2-ES.CCLM4-8-17.rcp45",
          "RUINS.HadGEM2-ES.CCLM4-8-17.rcp85",
          "RUINS.HadGEM2-ES.HIRHAM5",
          "RUINS.HadGEM2-ES.HIRHAM5.rcp45",
          "RUINS.HadGEM2-ES.HIRHAM5.rcp85",
          "RUINS.HadGEM2-ES.REMO2015",
          "RUINS.HadGEM2-ES.REMO2015.rcp26",
          "RUINS.HadGEM2-ES.REMO2015.rcp45",
          "RUINS.HadGEM2-ES.REMO2015.rcp85",
          "RUINS.HadGEM2-ES.RACMO22E",
          "RUINS.HadGEM2-ES.RACMO22E.rcp26",
          "RUINS.HadGEM2-ES.RACMO22E.rcp45",
          "RUINS.HadGEM2-ES.RACMO22E.rcp85",
          "RUINS.HadGEM2-ES.HadREM3-GA7-05",
          "RUINS.HadGEM2-ES.HadREM3-GA7-05.rcp85",
          "RUINS.HadGEM2-ES.WETTREG2013",
          "RUINS.HadGEM2-ES.WETTREG2013.rcp85",
          "RUINS.HadGEM2-ES.STARS3",
          "RUINS.HadGEM2-ES.STARS3.rcp26",
          "RUINS.HadGEM2-ES.STARS3.rcp85",
          "RUINS.HadGEM2-ES.WRF361H",
          "RUINS.HadGEM2-ES.WRF361H.rcp85",
          "RUINS.M-MPI-ESM-LR",
          "RUINS.M-MPI-ESM-LR.COSMO-crCLIM-v1-1",
          "RUINS.M-MPI-ESM-LR.COSMO-crCLIM-v1-1.rcp85",
          "RUINS.M-MPI-ESM-LR.CCLM4-8-17",
          "RUINS.M-MPI-ESM-LR.CCLM4-8-17.rcp45",
          "RUINS.M-MPI-ESM-LR.CCLM4-8-17.rcp85",
          "RUINS.M-MPI-ESM-LR.CCLM4-8-17.rcp26",
          "RUINS.M-MPI-ESM-LR.HIRHAM5",
          "RUINS.M-MPI-ESM-LR.HIRHAM5.rcp85",
          "RUINS.M-MPI-ESM-LR.REMO2015",
          "RUINS.M-MPI-ESM-LR.REMO2015.rcp85",
          "RUINS.M-MPI-ESM-LR.RACMO22E",
          "RUINS.M-MPI-ESM-LR.RACMO22E.rcp26",
          "RUINS.M-MPI-ESM-LR.RACMO22E.rcp85",
          "RUINS.M-MPI-ESM-LR.HadREM3-GA7-05",
          "RUINS.M-MPI-ESM-LR.HadREM3-GA7-05.rcp85",
          "RUINS.M-MPI-ESM-LR.REMO2009",
          "RUINS.M-MPI-ESM-LR.REMO2009.rcp26",
          "RUINS.M-MPI-ESM-LR.REMO2009.rcp45",
          "RUINS.M-MPI-ESM-LR.REMO2009.rcp85",
          "RUINS.M-MPI-ESM-LR.WRF361H",
          "RUINS.M-MPI-ESM-LR.WRF361H.rcp85",
          "RUINS.M-MPI-ESM-LR.WETTREG2013",
          "RUINS.M-MPI-ESM-LR.WETTREG2013.rcp26",
          "RUINS.M-MPI-ESM-LR.WETTREG2013.rcp85",
          "RUINS.M-MPI-ESM-LR.STARS3",
          "RUINS.M-MPI-ESM-LR.STARS3.rcp26",
          "RUINS.M-MPI-ESM-LR.STARS3.rcp85",
          "RUINS.M-MPI-ESM-LR.EPISODES2018",
          "RUINS.M-MPI-ESM-LR.EPISODES2018.historical",
          "RUINS.M-MPI-ESM-LR.EPISODES2018.rcp26",
          "RUINS.M-MPI-ESM-LR.EPISODES2018.rcp45",
          "RUINS.M-MPI-ESM-LR.EPISODES2018.rcp85",
          "RUINS.NorESM1-M",
          "RUINS.NorESM1-M.COSMO-crCLIM-v1-1",
          "RUINS.NorESM1-M.COSMO-crCLIM-v1-1.rcp85",
          "RUINS.NorESM1-M.HIRHAM5",
          "RUINS.NorESM1-M.HIRHAM5.rcp45",
          "RUINS.NorESM1-M.HIRHAM5.rcp85",
          "RUINS.NorESM1-M.REMO2015",
          "RUINS.NorESM1-M.REMO2015.rcp26",
          "RUINS.NorESM1-M.REMO2015.rcp45",
          "RUINS.NorESM1-M.REMO2015.rcp85",
          "RUINS.NorESM1-M.RACMO22E",
          "RUINS.NorESM1-M.RACMO22E.rcp26",
          "RUINS.NorESM1-M.RACMO22E.rcp85",
          "RUINS.NorESM1-M.HadREM3-GA7-05",
          "RUINS.NorESM1-M.HadREM3-GA7-05.rcp85",
          "RUINS.NorESM1-M.EPISODES2018",
          "RUINS.NorESM1-M.EPISODES2018.historical",
          "RUINS.NorESM1-M.EPISODES2018.rcp26",
          "RUINS.NorESM1-M.EPISODES2018.rcp45",
          "RUINS.NorESM1-M.EPISODES2018.rcp85",
          "RUINS.CERFACS-CNRM-CM5",
          "RUINS.CERFACS-CNRM-CM5.CCLM4-8-17",
          "RUINS.CERFACS-CNRM-CM5.CCLM4-8-17.rcp45",
          "RUINS.CERFACS-CNRM-CM5.CCLM4-8-17.rcp85",
          "RUINS.CERFACS-CNRM-CM5.HIRHAM5",
          "RUINS.CERFACS-CNRM-CM5.HIRHAM5.rcp85",
          "RUINS.CERFACS-CNRM-CM5.REMO2015",
          "RUINS.CERFACS-CNRM-CM5.REMO2015.rcp85",
          "RUINS.CERFACS-CNRM-CM5.RACMO22E",
          "RUINS.CERFACS-CNRM-CM5.RACMO22E.rcp26",
          "RUINS.CERFACS-CNRM-CM5.RACMO22E.rcp45",
          "RUINS.CERFACS-CNRM-CM5.RACMO22E.rcp85",
          "RUINS.CERFACS-CNRM-CM5.WETTREG2013",
          "RUINS.CERFACS-CNRM-CM5.WETTREG2013.rcp85",
          "RUINS.CERFACS-CNRM-CM5.STARS3",
          "RUINS.CERFACS-CNRM-CM5.STARS3.rcp85",
          "RUINS.CERFACS-CNRM-CM5.EPISODES2018",
          "RUINS.CERFACS-CNRM-CM5.EPISODES2018.historical",
          "RUINS.CERFACS-CNRM-CM5.EPISODES2018.rcp26",
          "RUINS.CERFACS-CNRM-CM5.EPISODES2018.rcp45",
          "RUINS.CERFACS-CNRM-CM5.EPISODES2018.rcp85",
          "RUINS.EC-EARTH",
          "RUINS.EC-EARTH.CCLM4-8-17",
          "RUINS.EC-EARTH.CCLM4-8-17.rcp26",
          "RUINS.EC-EARTH.CCLM4-8-17.rcp45",
          "RUINS.EC-EARTH.CCLM4-8-17.rcp85",
          "RUINS.EC-EARTH.HIRHAM5",
          "RUINS.EC-EARTH.HIRHAM5.rcp26",
          "RUINS.EC-EARTH.HIRHAM5.rcp45",
          "RUINS.EC-EARTH.HIRHAM5.rcp85",
          "RUINS.EC-EARTH.REMO2015",
          "RUINS.EC-EARTH.REMO2015.rcp26",
          "RUINS.EC-EARTH.REMO2015.rcp45",
          "RUINS.EC-EARTH.REMO2015.rcp85",
          "RUINS.EC-EARTH.RACMO22E",
          "RUINS.EC-EARTH.RACMO22E.rcp26",
          "RUINS.EC-EARTH.RACMO22E.rcp45",
          "RUINS.EC-EARTH.RACMO22E.rcp85",
          "RUINS.EC-EARTH.HadREM3-GA7-05",
          "RUINS.EC-EARTH.HadREM3-GA7-05.rcp85",
          "RUINS.EC-EARTH.WETTREG2013",
          "RUINS.EC-EARTH.WETTREG2013.rcp85",
          "RUINS.EC-EARTH.STARS3",
          "RUINS.EC-EARTH.STARS3.rcp26",
          "RUINS.EC-EARTH.STARS3.rcp85",
          "RUINS.EC-EARTH.WRF361H",
          "RUINS.EC-EARTH.WRF361H.rcp85",
          "RUINS.EC-EARTH.EPISODES2018",
          "RUINS.EC-EARTH.EPISODES2018.historical",
          "RUINS.EC-EARTH.EPISODES2018.rcp45",
          "RUINS.EC-EARTH.EPISODES2018.rcp85",
          "RUINS.MIROC5",
          "RUINS.MIROC5.CCLM4-8-17",
          "RUINS.MIROC5.CCLM4-8-17.rcp26",
          "RUINS.MIROC5.CCLM4-8-17.rcp85",
          "RUINS.MIROC5.REMO2015",
          "RUINS.MIROC5.REMO2015.rcp26",
          "RUINS.MIROC5.REMO2015.rcp85",
          "RUINS.MIROC5.WETTREG2013",
          "RUINS.MIROC5.WETTREG2013.rcp85",
          "RUINS.MIROC5.STARS3",
          "RUINS.MIROC5.STARS3.rcp85",
          "RUINS.IPSL-CM5A-LR",
          "RUINS.IPSL-CM5A-LR.REMO2015",
          "RUINS.IPSL-CM5A-LR.REMO2015.rcp26",
          "RUINS.IPSL-CM5A-MR",
          "RUINS.IPSL-CM5A-MR.REMO2015",
          "RUINS.IPSL-CM5A-MR.REMO2015.rcp85",
          "RUINS.IPSL-CM5A-MR.RACMO22E",
          "RUINS.IPSL-CM5A-MR.RACMO22E.rcp85",
          "RUINS.GFDL-GFDL-ESM2G",
          "RUINS.GFDL-GFDL-ESM2G.REMO2015",
          "RUINS.GFDL-GFDL-ESM2G.REMO2015.rcp26",
          "RUINS.CanESM2",
          "RUINS.CanESM2.WETTREG2013",
          "RUINS.CanESM2.WETTREG2013.rcp85",
          "RUINS.CanESM2.CCLM4-8-17",
          "RUINS.CanESM2.CCLM4-8-17.rcp85",
          "RUINS.CanESM2.REMO2015",
          "RUINS.CanESM2.REMO2015.rcp85",
          "RUINS.CanESM2.STARS3",
          "RUINS.CanESM2.STARS3.rcp85",
          "RUINS.CanESM2.EPISODES2018",
          "RUINS.CanESM2.EPISODES2018.historical",
          "RUINS.CanESM2.EPISODES2018.rcp26",
          "RUINS.CanESM2.EPISODES2018.rcp45",
          "RUINS.CanESM2.EPISODES2018.rcp85"
         ],
         "insidetextorientation": "radial",
         "labels": [
          "RUINS",
          "HadGEM2-ES",
          "COSMO-crCLIM-v1-1",
          "RCP85",
          "CCLM4-8-17",
          "RCP45",
          "RCP85",
          "HIRHAM5",
          "RCP45",
          "RCP85",
          "REMO2015",
          "RCP26",
          "RCP45",
          "RCP85",
          "RACMO22E",
          "RCP26",
          "RCP45",
          "RCP85",
          "HadREM3-GA7-05",
          "RCP85",
          "WETTREG2013",
          "RCP85",
          "STARS3",
          "RCP26",
          "RCP85",
          "WRF361H",
          "RCP85",
          "M-MPI-ESM-LR",
          "COSMO-crCLIM-v1-1",
          "RCP85",
          "CCLM4-8-17",
          "RCP45",
          "RCP85",
          "RCP26",
          "HIRHAM5",
          "RCP85",
          "REMO2015",
          "RCP85",
          "RACMO22E",
          "RCP26",
          "RCP85",
          "HadREM3-GA7-05",
          "RCP85",
          "REMO2009",
          "RCP26",
          "RCP45",
          "RCP85",
          "WRF361H",
          "RCP85",
          "WETTREG2013",
          "RCP26",
          "RCP85",
          "STARS3",
          "RCP26",
          "RCP85",
          "EPISODES2018",
          "HISTORICAL",
          "RCP26",
          "RCP45",
          "RCP85",
          "NorESM1-M",
          "COSMO-crCLIM-v1-1",
          "RCP85",
          "HIRHAM5",
          "RCP45",
          "RCP85",
          "REMO2015",
          "RCP26",
          "RCP45",
          "RCP85",
          "RACMO22E",
          "RCP26",
          "RCP85",
          "HadREM3-GA7-05",
          "RCP85",
          "EPISODES2018",
          "HISTORICAL",
          "RCP26",
          "RCP45",
          "RCP85",
          "CERFACS-CNRM-CM5",
          "CCLM4-8-17",
          "RCP45",
          "RCP85",
          "HIRHAM5",
          "RCP85",
          "REMO2015",
          "RCP85",
          "RACMO22E",
          "RCP26",
          "RCP45",
          "RCP85",
          "WETTREG2013",
          "RCP85",
          "STARS3",
          "RCP85",
          "EPISODES2018",
          "HISTORICAL",
          "RCP26",
          "RCP45",
          "RCP85",
          "EC-EARTH",
          "CCLM4-8-17",
          "RCP26",
          "RCP45",
          "RCP85",
          "HIRHAM5",
          "RCP26",
          "RCP45",
          "RCP85",
          "REMO2015",
          "RCP26",
          "RCP45",
          "RCP85",
          "RACMO22E",
          "RCP26",
          "RCP45",
          "RCP85",
          "HadREM3-GA7-05",
          "RCP85",
          "WETTREG2013",
          "RCP85",
          "STARS3",
          "RCP26",
          "RCP85",
          "WRF361H",
          "RCP85",
          "EPISODES2018",
          "HISTORICAL",
          "RCP45",
          "RCP85",
          "MIROC5",
          "CCLM4-8-17",
          "RCP26",
          "RCP85",
          "REMO2015",
          "RCP26",
          "RCP85",
          "WETTREG2013",
          "RCP85",
          "STARS3",
          "RCP85",
          "IPSL-CM5A-LR",
          "REMO2015",
          "RCP26",
          "IPSL-CM5A-MR",
          "REMO2015",
          "RCP85",
          "RACMO22E",
          "RCP85",
          "GFDL-GFDL-ESM2G",
          "REMO2015",
          "RCP26",
          "CanESM2",
          "WETTREG2013",
          "RCP85",
          "CCLM4-8-17",
          "RCP85",
          "REMO2015",
          "RCP85",
          "STARS3",
          "RCP85",
          "EPISODES2018",
          "HISTORICAL",
          "RCP26",
          "RCP45",
          "RCP85"
         ],
         "marker": {
          "colorscale": [
           [
            0,
            "rgb(0,0,0)"
           ],
           [
            0.2,
            "rgb(30,0,100)"
           ],
           [
            0.4,
            "rgb(120,0,100)"
           ],
           [
            0.6,
            "rgb(160,90,0)"
           ],
           [
            0.8,
            "rgb(230,200,0)"
           ],
           [
            1,
            "rgb(255,250,220)"
           ]
          ]
         },
         "maxdepth": 4,
         "name": "",
         "parents": [
          null,
          "RUINS",
          "RUINS.HadGEM2-ES",
          "RUINS.HadGEM2-ES.COSMO-crCLIM-v1-1",
          "RUINS.HadGEM2-ES",
          "RUINS.HadGEM2-ES.CCLM4-8-17",
          "RUINS.HadGEM2-ES.CCLM4-8-17",
          "RUINS.HadGEM2-ES",
          "RUINS.HadGEM2-ES.HIRHAM5",
          "RUINS.HadGEM2-ES.HIRHAM5",
          "RUINS.HadGEM2-ES",
          "RUINS.HadGEM2-ES.REMO2015",
          "RUINS.HadGEM2-ES.REMO2015",
          "RUINS.HadGEM2-ES.REMO2015",
          "RUINS.HadGEM2-ES",
          "RUINS.HadGEM2-ES.RACMO22E",
          "RUINS.HadGEM2-ES.RACMO22E",
          "RUINS.HadGEM2-ES.RACMO22E",
          "RUINS.HadGEM2-ES",
          "RUINS.HadGEM2-ES.HadREM3-GA7-05",
          "RUINS.HadGEM2-ES",
          "RUINS.HadGEM2-ES.WETTREG2013",
          "RUINS.HadGEM2-ES",
          "RUINS.HadGEM2-ES.STARS3",
          "RUINS.HadGEM2-ES.STARS3",
          "RUINS.HadGEM2-ES",
          "RUINS.HadGEM2-ES.WRF361H",
          "RUINS",
          "RUINS.M-MPI-ESM-LR",
          "RUINS.M-MPI-ESM-LR.COSMO-crCLIM-v1-1",
          "RUINS.M-MPI-ESM-LR",
          "RUINS.M-MPI-ESM-LR.CCLM4-8-17",
          "RUINS.M-MPI-ESM-LR.CCLM4-8-17",
          "RUINS.M-MPI-ESM-LR.CCLM4-8-17",
          "RUINS.M-MPI-ESM-LR",
          "RUINS.M-MPI-ESM-LR.HIRHAM5",
          "RUINS.M-MPI-ESM-LR",
          "RUINS.M-MPI-ESM-LR.REMO2015",
          "RUINS.M-MPI-ESM-LR",
          "RUINS.M-MPI-ESM-LR.RACMO22E",
          "RUINS.M-MPI-ESM-LR.RACMO22E",
          "RUINS.M-MPI-ESM-LR",
          "RUINS.M-MPI-ESM-LR.HadREM3-GA7-05",
          "RUINS.M-MPI-ESM-LR",
          "RUINS.M-MPI-ESM-LR.REMO2009",
          "RUINS.M-MPI-ESM-LR.REMO2009",
          "RUINS.M-MPI-ESM-LR.REMO2009",
          "RUINS.M-MPI-ESM-LR",
          "RUINS.M-MPI-ESM-LR.WRF361H",
          "RUINS.M-MPI-ESM-LR",
          "RUINS.M-MPI-ESM-LR.WETTREG2013",
          "RUINS.M-MPI-ESM-LR.WETTREG2013",
          "RUINS.M-MPI-ESM-LR",
          "RUINS.M-MPI-ESM-LR.STARS3",
          "RUINS.M-MPI-ESM-LR.STARS3",
          "RUINS.M-MPI-ESM-LR",
          "RUINS.M-MPI-ESM-LR.EPISODES2018",
          "RUINS.M-MPI-ESM-LR.EPISODES2018",
          "RUINS.M-MPI-ESM-LR.EPISODES2018",
          "RUINS.M-MPI-ESM-LR.EPISODES2018",
          "RUINS",
          "RUINS.NorESM1-M",
          "RUINS.NorESM1-M.COSMO-crCLIM-v1-1",
          "RUINS.NorESM1-M",
          "RUINS.NorESM1-M.HIRHAM5",
          "RUINS.NorESM1-M.HIRHAM5",
          "RUINS.NorESM1-M",
          "RUINS.NorESM1-M.REMO2015",
          "RUINS.NorESM1-M.REMO2015",
          "RUINS.NorESM1-M.REMO2015",
          "RUINS.NorESM1-M",
          "RUINS.NorESM1-M.RACMO22E",
          "RUINS.NorESM1-M.RACMO22E",
          "RUINS.NorESM1-M",
          "RUINS.NorESM1-M.HadREM3-GA7-05",
          "RUINS.NorESM1-M",
          "RUINS.NorESM1-M.EPISODES2018",
          "RUINS.NorESM1-M.EPISODES2018",
          "RUINS.NorESM1-M.EPISODES2018",
          "RUINS.NorESM1-M.EPISODES2018",
          "RUINS",
          "RUINS.CERFACS-CNRM-CM5",
          "RUINS.CERFACS-CNRM-CM5.CCLM4-8-17",
          "RUINS.CERFACS-CNRM-CM5.CCLM4-8-17",
          "RUINS.CERFACS-CNRM-CM5",
          "RUINS.CERFACS-CNRM-CM5.HIRHAM5",
          "RUINS.CERFACS-CNRM-CM5",
          "RUINS.CERFACS-CNRM-CM5.REMO2015",
          "RUINS.CERFACS-CNRM-CM5",
          "RUINS.CERFACS-CNRM-CM5.RACMO22E",
          "RUINS.CERFACS-CNRM-CM5.RACMO22E",
          "RUINS.CERFACS-CNRM-CM5.RACMO22E",
          "RUINS.CERFACS-CNRM-CM5",
          "RUINS.CERFACS-CNRM-CM5.WETTREG2013",
          "RUINS.CERFACS-CNRM-CM5",
          "RUINS.CERFACS-CNRM-CM5.STARS3",
          "RUINS.CERFACS-CNRM-CM5",
          "RUINS.CERFACS-CNRM-CM5.EPISODES2018",
          "RUINS.CERFACS-CNRM-CM5.EPISODES2018",
          "RUINS.CERFACS-CNRM-CM5.EPISODES2018",
          "RUINS.CERFACS-CNRM-CM5.EPISODES2018",
          "RUINS",
          "RUINS.EC-EARTH",
          "RUINS.EC-EARTH.CCLM4-8-17",
          "RUINS.EC-EARTH.CCLM4-8-17",
          "RUINS.EC-EARTH.CCLM4-8-17",
          "RUINS.EC-EARTH",
          "RUINS.EC-EARTH.HIRHAM5",
          "RUINS.EC-EARTH.HIRHAM5",
          "RUINS.EC-EARTH.HIRHAM5",
          "RUINS.EC-EARTH",
          "RUINS.EC-EARTH.REMO2015",
          "RUINS.EC-EARTH.REMO2015",
          "RUINS.EC-EARTH.REMO2015",
          "RUINS.EC-EARTH",
          "RUINS.EC-EARTH.RACMO22E",
          "RUINS.EC-EARTH.RACMO22E",
          "RUINS.EC-EARTH.RACMO22E",
          "RUINS.EC-EARTH",
          "RUINS.EC-EARTH.HadREM3-GA7-05",
          "RUINS.EC-EARTH",
          "RUINS.EC-EARTH.WETTREG2013",
          "RUINS.EC-EARTH",
          "RUINS.EC-EARTH.STARS3",
          "RUINS.EC-EARTH.STARS3",
          "RUINS.EC-EARTH",
          "RUINS.EC-EARTH.WRF361H",
          "RUINS.EC-EARTH",
          "RUINS.EC-EARTH.EPISODES2018",
          "RUINS.EC-EARTH.EPISODES2018",
          "RUINS.EC-EARTH.EPISODES2018",
          "RUINS",
          "RUINS.MIROC5",
          "RUINS.MIROC5.CCLM4-8-17",
          "RUINS.MIROC5.CCLM4-8-17",
          "RUINS.MIROC5",
          "RUINS.MIROC5.REMO2015",
          "RUINS.MIROC5.REMO2015",
          "RUINS.MIROC5",
          "RUINS.MIROC5.WETTREG2013",
          "RUINS.MIROC5",
          "RUINS.MIROC5.STARS3",
          "RUINS",
          "RUINS.IPSL-CM5A-LR",
          "RUINS.IPSL-CM5A-LR.REMO2015",
          "RUINS",
          "RUINS.IPSL-CM5A-MR",
          "RUINS.IPSL-CM5A-MR.REMO2015",
          "RUINS.IPSL-CM5A-MR",
          "RUINS.IPSL-CM5A-MR.RACMO22E",
          "RUINS",
          "RUINS.GFDL-GFDL-ESM2G",
          "RUINS.GFDL-GFDL-ESM2G.REMO2015",
          "RUINS",
          "RUINS.CanESM2",
          "RUINS.CanESM2.WETTREG2013",
          "RUINS.CanESM2",
          "RUINS.CanESM2.CCLM4-8-17",
          "RUINS.CanESM2",
          "RUINS.CanESM2.REMO2015",
          "RUINS.CanESM2",
          "RUINS.CanESM2.STARS3",
          "RUINS.CanESM2",
          "RUINS.CanESM2.EPISODES2018",
          "RUINS.CanESM2.EPISODES2018",
          "RUINS.CanESM2.EPISODES2018",
          "RUINS.CanESM2.EPISODES2018"
         ],
         "type": "sunburst",
         "values": [
          308,
          47,
          1,
          1,
          2,
          1,
          1,
          2,
          1,
          1,
          3,
          1,
          1,
          1,
          3,
          1,
          1,
          1,
          1,
          1,
          18,
          18,
          16,
          6,
          10,
          1,
          1,
          62,
          3,
          3,
          3,
          1,
          1,
          1,
          1,
          1,
          1,
          1,
          2,
          1,
          1,
          1,
          1,
          6,
          2,
          2,
          2,
          1,
          1,
          14,
          4,
          10,
          18,
          8,
          10,
          12,
          3,
          3,
          3,
          3,
          13,
          1,
          1,
          2,
          1,
          1,
          3,
          1,
          1,
          1,
          2,
          1,
          1,
          1,
          1,
          4,
          1,
          1,
          1,
          1,
          42,
          2,
          1,
          1,
          1,
          1,
          2,
          2,
          3,
          1,
          1,
          1,
          20,
          20,
          10,
          10,
          4,
          1,
          1,
          1,
          1,
          55,
          3,
          1,
          1,
          1,
          5,
          1,
          1,
          3,
          3,
          1,
          1,
          1,
          6,
          1,
          2,
          3,
          1,
          1,
          10,
          10,
          18,
          8,
          10,
          1,
          1,
          8,
          2,
          3,
          3,
          34,
          2,
          1,
          1,
          2,
          1,
          1,
          20,
          20,
          10,
          10,
          1,
          1,
          1,
          2,
          1,
          1,
          1,
          1,
          1,
          1,
          1,
          51,
          20,
          20,
          1,
          1,
          1,
          1,
          10,
          10,
          19,
          5,
          4,
          5,
          5
         ]
        }
       ],
       "layout": {
        "height": 700,
        "margin": {
         "b": 0,
         "l": 0,
         "r": 0,
         "t": 0
        },
        "template": {
         "data": {
          "bar": [
           {
            "error_x": {
             "color": "#2a3f5f"
            },
            "error_y": {
             "color": "#2a3f5f"
            },
            "marker": {
             "line": {
              "color": "#E5ECF6",
              "width": 0.5
             }
            },
            "type": "bar"
           }
          ],
          "barpolar": [
           {
            "marker": {
             "line": {
              "color": "#E5ECF6",
              "width": 0.5
             }
            },
            "type": "barpolar"
           }
          ],
          "carpet": [
           {
            "aaxis": {
             "endlinecolor": "#2a3f5f",
             "gridcolor": "white",
             "linecolor": "white",
             "minorgridcolor": "white",
             "startlinecolor": "#2a3f5f"
            },
            "baxis": {
             "endlinecolor": "#2a3f5f",
             "gridcolor": "white",
             "linecolor": "white",
             "minorgridcolor": "white",
             "startlinecolor": "#2a3f5f"
            },
            "type": "carpet"
           }
          ],
          "choropleth": [
           {
            "colorbar": {
             "outlinewidth": 0,
             "ticks": ""
            },
            "type": "choropleth"
           }
          ],
          "contour": [
           {
            "colorbar": {
             "outlinewidth": 0,
             "ticks": ""
            },
            "colorscale": [
             [
              0,
              "#0d0887"
             ],
             [
              0.1111111111111111,
              "#46039f"
             ],
             [
              0.2222222222222222,
              "#7201a8"
             ],
             [
              0.3333333333333333,
              "#9c179e"
             ],
             [
              0.4444444444444444,
              "#bd3786"
             ],
             [
              0.5555555555555556,
              "#d8576b"
             ],
             [
              0.6666666666666666,
              "#ed7953"
             ],
             [
              0.7777777777777778,
              "#fb9f3a"
             ],
             [
              0.8888888888888888,
              "#fdca26"
             ],
             [
              1,
              "#f0f921"
             ]
            ],
            "type": "contour"
           }
          ],
          "contourcarpet": [
           {
            "colorbar": {
             "outlinewidth": 0,
             "ticks": ""
            },
            "type": "contourcarpet"
           }
          ],
          "heatmap": [
           {
            "colorbar": {
             "outlinewidth": 0,
             "ticks": ""
            },
            "colorscale": [
             [
              0,
              "#0d0887"
             ],
             [
              0.1111111111111111,
              "#46039f"
             ],
             [
              0.2222222222222222,
              "#7201a8"
             ],
             [
              0.3333333333333333,
              "#9c179e"
             ],
             [
              0.4444444444444444,
              "#bd3786"
             ],
             [
              0.5555555555555556,
              "#d8576b"
             ],
             [
              0.6666666666666666,
              "#ed7953"
             ],
             [
              0.7777777777777778,
              "#fb9f3a"
             ],
             [
              0.8888888888888888,
              "#fdca26"
             ],
             [
              1,
              "#f0f921"
             ]
            ],
            "type": "heatmap"
           }
          ],
          "heatmapgl": [
           {
            "colorbar": {
             "outlinewidth": 0,
             "ticks": ""
            },
            "colorscale": [
             [
              0,
              "#0d0887"
             ],
             [
              0.1111111111111111,
              "#46039f"
             ],
             [
              0.2222222222222222,
              "#7201a8"
             ],
             [
              0.3333333333333333,
              "#9c179e"
             ],
             [
              0.4444444444444444,
              "#bd3786"
             ],
             [
              0.5555555555555556,
              "#d8576b"
             ],
             [
              0.6666666666666666,
              "#ed7953"
             ],
             [
              0.7777777777777778,
              "#fb9f3a"
             ],
             [
              0.8888888888888888,
              "#fdca26"
             ],
             [
              1,
              "#f0f921"
             ]
            ],
            "type": "heatmapgl"
           }
          ],
          "histogram": [
           {
            "marker": {
             "colorbar": {
              "outlinewidth": 0,
              "ticks": ""
             }
            },
            "type": "histogram"
           }
          ],
          "histogram2d": [
           {
            "colorbar": {
             "outlinewidth": 0,
             "ticks": ""
            },
            "colorscale": [
             [
              0,
              "#0d0887"
             ],
             [
              0.1111111111111111,
              "#46039f"
             ],
             [
              0.2222222222222222,
              "#7201a8"
             ],
             [
              0.3333333333333333,
              "#9c179e"
             ],
             [
              0.4444444444444444,
              "#bd3786"
             ],
             [
              0.5555555555555556,
              "#d8576b"
             ],
             [
              0.6666666666666666,
              "#ed7953"
             ],
             [
              0.7777777777777778,
              "#fb9f3a"
             ],
             [
              0.8888888888888888,
              "#fdca26"
             ],
             [
              1,
              "#f0f921"
             ]
            ],
            "type": "histogram2d"
           }
          ],
          "histogram2dcontour": [
           {
            "colorbar": {
             "outlinewidth": 0,
             "ticks": ""
            },
            "colorscale": [
             [
              0,
              "#0d0887"
             ],
             [
              0.1111111111111111,
              "#46039f"
             ],
             [
              0.2222222222222222,
              "#7201a8"
             ],
             [
              0.3333333333333333,
              "#9c179e"
             ],
             [
              0.4444444444444444,
              "#bd3786"
             ],
             [
              0.5555555555555556,
              "#d8576b"
             ],
             [
              0.6666666666666666,
              "#ed7953"
             ],
             [
              0.7777777777777778,
              "#fb9f3a"
             ],
             [
              0.8888888888888888,
              "#fdca26"
             ],
             [
              1,
              "#f0f921"
             ]
            ],
            "type": "histogram2dcontour"
           }
          ],
          "mesh3d": [
           {
            "colorbar": {
             "outlinewidth": 0,
             "ticks": ""
            },
            "type": "mesh3d"
           }
          ],
          "parcoords": [
           {
            "line": {
             "colorbar": {
              "outlinewidth": 0,
              "ticks": ""
             }
            },
            "type": "parcoords"
           }
          ],
          "pie": [
           {
            "automargin": true,
            "type": "pie"
           }
          ],
          "scatter": [
           {
            "marker": {
             "colorbar": {
              "outlinewidth": 0,
              "ticks": ""
             }
            },
            "type": "scatter"
           }
          ],
          "scatter3d": [
           {
            "line": {
             "colorbar": {
              "outlinewidth": 0,
              "ticks": ""
             }
            },
            "marker": {
             "colorbar": {
              "outlinewidth": 0,
              "ticks": ""
             }
            },
            "type": "scatter3d"
           }
          ],
          "scattercarpet": [
           {
            "marker": {
             "colorbar": {
              "outlinewidth": 0,
              "ticks": ""
             }
            },
            "type": "scattercarpet"
           }
          ],
          "scattergeo": [
           {
            "marker": {
             "colorbar": {
              "outlinewidth": 0,
              "ticks": ""
             }
            },
            "type": "scattergeo"
           }
          ],
          "scattergl": [
           {
            "marker": {
             "colorbar": {
              "outlinewidth": 0,
              "ticks": ""
             }
            },
            "type": "scattergl"
           }
          ],
          "scattermapbox": [
           {
            "marker": {
             "colorbar": {
              "outlinewidth": 0,
              "ticks": ""
             }
            },
            "type": "scattermapbox"
           }
          ],
          "scatterpolar": [
           {
            "marker": {
             "colorbar": {
              "outlinewidth": 0,
              "ticks": ""
             }
            },
            "type": "scatterpolar"
           }
          ],
          "scatterpolargl": [
           {
            "marker": {
             "colorbar": {
              "outlinewidth": 0,
              "ticks": ""
             }
            },
            "type": "scatterpolargl"
           }
          ],
          "scatterternary": [
           {
            "marker": {
             "colorbar": {
              "outlinewidth": 0,
              "ticks": ""
             }
            },
            "type": "scatterternary"
           }
          ],
          "surface": [
           {
            "colorbar": {
             "outlinewidth": 0,
             "ticks": ""
            },
            "colorscale": [
             [
              0,
              "#0d0887"
             ],
             [
              0.1111111111111111,
              "#46039f"
             ],
             [
              0.2222222222222222,
              "#7201a8"
             ],
             [
              0.3333333333333333,
              "#9c179e"
             ],
             [
              0.4444444444444444,
              "#bd3786"
             ],
             [
              0.5555555555555556,
              "#d8576b"
             ],
             [
              0.6666666666666666,
              "#ed7953"
             ],
             [
              0.7777777777777778,
              "#fb9f3a"
             ],
             [
              0.8888888888888888,
              "#fdca26"
             ],
             [
              1,
              "#f0f921"
             ]
            ],
            "type": "surface"
           }
          ],
          "table": [
           {
            "cells": {
             "fill": {
              "color": "#EBF0F8"
             },
             "line": {
              "color": "white"
             }
            },
            "header": {
             "fill": {
              "color": "#C8D4E3"
             },
             "line": {
              "color": "white"
             }
            },
            "type": "table"
           }
          ]
         },
         "layout": {
          "annotationdefaults": {
           "arrowcolor": "#2a3f5f",
           "arrowhead": 0,
           "arrowwidth": 1
          },
          "autotypenumbers": "strict",
          "coloraxis": {
           "colorbar": {
            "outlinewidth": 0,
            "ticks": ""
           }
          },
          "colorscale": {
           "diverging": [
            [
             0,
             "#8e0152"
            ],
            [
             0.1,
             "#c51b7d"
            ],
            [
             0.2,
             "#de77ae"
            ],
            [
             0.3,
             "#f1b6da"
            ],
            [
             0.4,
             "#fde0ef"
            ],
            [
             0.5,
             "#f7f7f7"
            ],
            [
             0.6,
             "#e6f5d0"
            ],
            [
             0.7,
             "#b8e186"
            ],
            [
             0.8,
             "#7fbc41"
            ],
            [
             0.9,
             "#4d9221"
            ],
            [
             1,
             "#276419"
            ]
           ],
           "sequential": [
            [
             0,
             "#0d0887"
            ],
            [
             0.1111111111111111,
             "#46039f"
            ],
            [
             0.2222222222222222,
             "#7201a8"
            ],
            [
             0.3333333333333333,
             "#9c179e"
            ],
            [
             0.4444444444444444,
             "#bd3786"
            ],
            [
             0.5555555555555556,
             "#d8576b"
            ],
            [
             0.6666666666666666,
             "#ed7953"
            ],
            [
             0.7777777777777778,
             "#fb9f3a"
            ],
            [
             0.8888888888888888,
             "#fdca26"
            ],
            [
             1,
             "#f0f921"
            ]
           ],
           "sequentialminus": [
            [
             0,
             "#0d0887"
            ],
            [
             0.1111111111111111,
             "#46039f"
            ],
            [
             0.2222222222222222,
             "#7201a8"
            ],
            [
             0.3333333333333333,
             "#9c179e"
            ],
            [
             0.4444444444444444,
             "#bd3786"
            ],
            [
             0.5555555555555556,
             "#d8576b"
            ],
            [
             0.6666666666666666,
             "#ed7953"
            ],
            [
             0.7777777777777778,
             "#fb9f3a"
            ],
            [
             0.8888888888888888,
             "#fdca26"
            ],
            [
             1,
             "#f0f921"
            ]
           ]
          },
          "colorway": [
           "#636efa",
           "#EF553B",
           "#00cc96",
           "#ab63fa",
           "#FFA15A",
           "#19d3f3",
           "#FF6692",
           "#B6E880",
           "#FF97FF",
           "#FECB52"
          ],
          "font": {
           "color": "#2a3f5f"
          },
          "geo": {
           "bgcolor": "white",
           "lakecolor": "white",
           "landcolor": "#E5ECF6",
           "showlakes": true,
           "showland": true,
           "subunitcolor": "white"
          },
          "hoverlabel": {
           "align": "left"
          },
          "hovermode": "closest",
          "mapbox": {
           "style": "light"
          },
          "paper_bgcolor": "white",
          "plot_bgcolor": "#E5ECF6",
          "polar": {
           "angularaxis": {
            "gridcolor": "white",
            "linecolor": "white",
            "ticks": ""
           },
           "bgcolor": "#E5ECF6",
           "radialaxis": {
            "gridcolor": "white",
            "linecolor": "white",
            "ticks": ""
           }
          },
          "scene": {
           "xaxis": {
            "backgroundcolor": "#E5ECF6",
            "gridcolor": "white",
            "gridwidth": 2,
            "linecolor": "white",
            "showbackground": true,
            "ticks": "",
            "zerolinecolor": "white"
           },
           "yaxis": {
            "backgroundcolor": "#E5ECF6",
            "gridcolor": "white",
            "gridwidth": 2,
            "linecolor": "white",
            "showbackground": true,
            "ticks": "",
            "zerolinecolor": "white"
           },
           "zaxis": {
            "backgroundcolor": "#E5ECF6",
            "gridcolor": "white",
            "gridwidth": 2,
            "linecolor": "white",
            "showbackground": true,
            "ticks": "",
            "zerolinecolor": "white"
           }
          },
          "shapedefaults": {
           "line": {
            "color": "#2a3f5f"
           }
          },
          "ternary": {
           "aaxis": {
            "gridcolor": "white",
            "linecolor": "white",
            "ticks": ""
           },
           "baxis": {
            "gridcolor": "white",
            "linecolor": "white",
            "ticks": ""
           },
           "bgcolor": "#E5ECF6",
           "caxis": {
            "gridcolor": "white",
            "linecolor": "white",
            "ticks": ""
           }
          },
          "title": {
           "x": 0.05
          },
          "xaxis": {
           "automargin": true,
           "gridcolor": "white",
           "linecolor": "white",
           "ticks": "",
           "title": {
            "standoff": 15
           },
           "zerolinecolor": "white",
           "zerolinewidth": 2
          },
          "yaxis": {
           "automargin": true,
           "gridcolor": "white",
           "linecolor": "white",
           "ticks": "",
           "title": {
            "standoff": 15
           },
           "zerolinecolor": "white",
           "zerolinewidth": 2
          }
         }
        },
        "width": 700
       }
      }
     },
     "metadata": {},
     "output_type": "display_data"
    }
   ],
   "source": [
    "df = pd.read_csv('../data/cordex_overview.csv')\n",
    "ids = df.ids.values\n",
    "labels = df.labels.values\n",
    "parents = df.parents.values\n",
    "values = df['values'].values\n",
    "customdata = list(zip(df.customdata1.values, df.customdata2.values))\n",
    "\n",
    "fig = go.Figure()\n",
    "\n",
    "fig.add_trace(go.Sunburst(\n",
    "    ids=ids,\n",
    "    labels=labels,\n",
    "    parents=parents,\n",
    "    values=values,\n",
    "    branchvalues='total',\n",
    "    insidetextorientation='radial',\n",
    "    #hoverinfo='label+percent root+percent parent+value',\n",
    "    maxdepth=4,\n",
    "    customdata=customdata,\n",
    "    hovertemplate='<b>Name</b>: %{label}<br><b>Total</b>: %{value}<br><br>%{customdata[0]}<br>%{customdata[1]}',\n",
    "    name='',\n",
    "    marker=dict(colorscale='Electric')\n",
    "))\n",
    "fig.update_layout(margin=dict(t=0, l=0, r=0, b=0),  width=700, height=700)\n",
    "fig"
   ]
  }
 ],
 "metadata": {
  "kernelspec": {
   "display_name": "Python 3.8.5 ('base')",
   "language": "python",
   "name": "python3"
  },
  "language_info": {
   "codemirror_mode": {
    "name": "ipython",
    "version": 3
   },
   "file_extension": ".py",
   "mimetype": "text/x-python",
   "name": "python",
   "nbconvert_exporter": "python",
   "pygments_lexer": "ipython3",
   "version": "3.8.5"
  },
  "orig_nbformat": 4,
  "vscode": {
   "interpreter": {
    "hash": "f54d8176e82297fa872ac8c77277e50c0e193f921954c1c4a0b1ae2e8be99b71"
   }
  }
 },
 "nbformat": 4,
 "nbformat_minor": 2
}
